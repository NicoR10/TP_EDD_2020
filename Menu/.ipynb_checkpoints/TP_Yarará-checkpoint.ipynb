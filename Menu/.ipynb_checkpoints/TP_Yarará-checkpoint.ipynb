{
 "cells": [
  {
   "cell_type": "markdown",
   "metadata": {},
   "source": [
    "# TRABAJO PRÁCTICO\n",
    "## ESTRUCTURAS DE DATOS\n",
    "### GRUPO: Yarará"
   ]
  },
  {
   "cell_type": "code",
   "execution_count": 4,
   "metadata": {},
   "outputs": [],
   "source": [
    "from menu import Menu"
   ]
  },
  {
   "cell_type": "code",
   "execution_count": 7,
   "metadata": {},
   "outputs": [],
   "source": [
    "menu = Menu()"
   ]
  },
  {
   "cell_type": "code",
   "execution_count": 8,
   "metadata": {},
   "outputs": [
    {
     "name": "stdout",
     "output_type": "stream",
     "text": [
      "¡Hola! Ingresá el producto que deseás buscar o el número 1 para salir.\n",
      "Ingrese el término de búsqueda >> 1234\n",
      "Buscando: 1234\n",
      "Tu búsqueda arrojó los siguientes resultados: \n",
      "...\n",
      "¿Desea exportar los resultados? [y/n] >> y\n",
      "Elija el formato: \n",
      "\n",
      "1. csv \n",
      "\n",
      "2. json \n",
      "\n",
      "3. csv y json \n",
      "\n",
      "0. Cancelar y salir \n",
      "\n",
      ">> 1\n",
      "Exportando: ...\n",
      "Tipo: csv\n",
      "Fin del programa.\n"
     ]
    }
   ],
   "source": [
    "menu.ejecutar()"
   ]
  }
 ],
 "metadata": {
  "kernelspec": {
   "display_name": "Python 3",
   "language": "python",
   "name": "python3"
  },
  "language_info": {
   "codemirror_mode": {
    "name": "ipython",
    "version": 3
   },
   "file_extension": ".py",
   "mimetype": "text/x-python",
   "name": "python",
   "nbconvert_exporter": "python",
   "pygments_lexer": "ipython3",
   "version": "3.7.3"
  }
 },
 "nbformat": 4,
 "nbformat_minor": 2
}
